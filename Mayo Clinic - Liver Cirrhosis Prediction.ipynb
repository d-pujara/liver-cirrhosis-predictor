{
 "cells": [
  {
   "cell_type": "markdown",
   "metadata": {
    "collapsed": false,
    "pycharm": {
     "name": "#%% md\n"
    }
   },
   "source": [
    "<img src=\"data:image/jpeg;base64,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\">"
   ]
  },
  {
   "cell_type": "markdown",
   "metadata": {
    "collapsed": false,
    "pycharm": {
     "name": "#%% md\n"
    }
   },
   "source": [
    "### 1. Import Packages and Read Data"
   ]
  },
  {
   "cell_type": "code",
   "execution_count": 2,
   "outputs": [
    {
     "name": "stdout",
     "output_type": "stream",
     "text": [
      "Requirement already satisfied: statsmodels in /Library/Frameworks/Python.framework/Versions/3.10/lib/python3.10/site-packages (0.13.2)\r\n",
      "Requirement already satisfied: pandas>=0.25 in /Library/Frameworks/Python.framework/Versions/3.10/lib/python3.10/site-packages (from statsmodels) (1.4.3)\r\n",
      "Requirement already satisfied: packaging>=21.3 in /Library/Frameworks/Python.framework/Versions/3.10/lib/python3.10/site-packages (from statsmodels) (21.3)\r\n",
      "Requirement already satisfied: scipy>=1.3 in /Library/Frameworks/Python.framework/Versions/3.10/lib/python3.10/site-packages (from statsmodels) (1.9.1)\r\n",
      "Requirement already satisfied: numpy>=1.17 in /Library/Frameworks/Python.framework/Versions/3.10/lib/python3.10/site-packages (from statsmodels) (1.22.1)\r\n",
      "Requirement already satisfied: patsy>=0.5.2 in /Library/Frameworks/Python.framework/Versions/3.10/lib/python3.10/site-packages (from statsmodels) (0.5.2)\r\n",
      "Requirement already satisfied: pyparsing!=3.0.5,>=2.0.2 in /Library/Frameworks/Python.framework/Versions/3.10/lib/python3.10/site-packages (from packaging>=21.3->statsmodels) (3.0.9)\r\n",
      "Requirement already satisfied: python-dateutil>=2.8.1 in /Library/Frameworks/Python.framework/Versions/3.10/lib/python3.10/site-packages (from pandas>=0.25->statsmodels) (2.8.2)\r\n",
      "Requirement already satisfied: pytz>=2020.1 in /Library/Frameworks/Python.framework/Versions/3.10/lib/python3.10/site-packages (from pandas>=0.25->statsmodels) (2022.1)\r\n",
      "Requirement already satisfied: six in /Library/Frameworks/Python.framework/Versions/3.10/lib/python3.10/site-packages (from patsy>=0.5.2->statsmodels) (1.16.0)\r\n",
      "\r\n",
      "\u001B[1m[\u001B[0m\u001B[34;49mnotice\u001B[0m\u001B[1;39;49m]\u001B[0m\u001B[39;49m A new release of pip available: \u001B[0m\u001B[31;49m22.3\u001B[0m\u001B[39;49m -> \u001B[0m\u001B[32;49m22.3.1\u001B[0m\r\n",
      "\u001B[1m[\u001B[0m\u001B[34;49mnotice\u001B[0m\u001B[1;39;49m]\u001B[0m\u001B[39;49m To update, run: \u001B[0m\u001B[32;49mpip install --upgrade pip\u001B[0m\r\n",
      "Note: you may need to restart the kernel to use updated packages.\n"
     ]
    },
    {
     "name": "stderr",
     "output_type": "stream",
     "text": [
      "2022-11-17 13:50:13.682357: I tensorflow/core/platform/cpu_feature_guard.cc:193] This TensorFlow binary is optimized with oneAPI Deep Neural Network Library (oneDNN) to use the following CPU instructions in performance-critical operations:  AVX2 FMA\n",
      "To enable them in other operations, rebuild TensorFlow with the appropriate compiler flags.\n"
     ]
    }
   ],
   "source": [
    "%pip install statsmodels\n",
    "\n",
    "import warnings\n",
    "warnings.filterwarnings('ignore')\n",
    "import itertools\n",
    "\n",
    "import numpy as np\n",
    "import pandas as pd\n",
    "import seaborn as sns\n",
    "import matplotlib.pyplot as plt\n",
    "%matplotlib inline\n",
    "import tensorflow as tf\n",
    "\n",
    "from sklearn.model_selection import train_test_split\n",
    "from sklearn.preprocessing import StandardScaler, LabelEncoder\n",
    "from sklearn.metrics import confusion_matrix, accuracy_score, classification_report, roc_curve, auc\n",
    "from sklearn.pipeline import Pipeline\n",
    "from sklearn.tree import DecisionTreeClassifier\n",
    "from sklearn.linear_model import LogisticRegression\n",
    "from sklearn.ensemble import RandomForestClassifier, AdaBoostClassifier\n",
    "from sklearn.neighbors import KNeighborsClassifier\n",
    "from sklearn.svm import SVC\n",
    "\n",
    "from imblearn.over_sampling import SMOTE\n",
    "\n",
    "from xgboost import XGBClassifier\n",
    "from catboost import CatBoostClassifier\n",
    "\n",
    "from tensorflow.keras.layers import Conv1D, Dense, Input, MaxPooling1D, Dropout, Flatten\n",
    "from tensorflow.keras.models import Sequential\n",
    "\n",
    "from colorama import Fore, Back, Style\n",
    "from yellowbrick.classifier import ROCAUC\n",
    "\n",
    "sns.set_style('dark')"
   ],
   "metadata": {
    "collapsed": false,
    "pycharm": {
     "name": "#%%\n"
    }
   }
  },
  {
   "cell_type": "code",
   "execution_count": 3,
   "outputs": [
    {
     "data": {
      "text/plain": "   ID  N_Days Status             Drug    Age Sex Ascites Hepatomegaly Spiders  \\\n0   1     400      D  D-penicillamine  21464   F       Y            Y       Y   \n1   2    4500      C  D-penicillamine  20617   F       N            Y       Y   \n2   3    1012      D  D-penicillamine  25594   M       N            N       N   \n3   4    1925      D  D-penicillamine  19994   F       N            Y       Y   \n4   5    1504     CL          Placebo  13918   F       N            Y       Y   \n\n  Edema  Bilirubin  Cholesterol  Albumin  Copper  Alk_Phos    SGOT  \\\n0     Y       14.5        261.0     2.60   156.0    1718.0  137.95   \n1     N        1.1        302.0     4.14    54.0    7394.8  113.52   \n2     S        1.4        176.0     3.48   210.0     516.0   96.10   \n3     S        1.8        244.0     2.54    64.0    6121.8   60.63   \n4     N        3.4        279.0     3.53   143.0     671.0  113.15   \n\n   Tryglicerides  Platelets  Prothrombin  Stage  \n0          172.0      190.0         12.2    4.0  \n1           88.0      221.0         10.6    3.0  \n2           55.0      151.0         12.0    4.0  \n3           92.0      183.0         10.3    4.0  \n4           72.0      136.0         10.9    3.0  ",
      "text/html": "<div>\n<style scoped>\n    .dataframe tbody tr th:only-of-type {\n        vertical-align: middle;\n    }\n\n    .dataframe tbody tr th {\n        vertical-align: top;\n    }\n\n    .dataframe thead th {\n        text-align: right;\n    }\n</style>\n<table border=\"1\" class=\"dataframe\">\n  <thead>\n    <tr style=\"text-align: right;\">\n      <th></th>\n      <th>ID</th>\n      <th>N_Days</th>\n      <th>Status</th>\n      <th>Drug</th>\n      <th>Age</th>\n      <th>Sex</th>\n      <th>Ascites</th>\n      <th>Hepatomegaly</th>\n      <th>Spiders</th>\n      <th>Edema</th>\n      <th>Bilirubin</th>\n      <th>Cholesterol</th>\n      <th>Albumin</th>\n      <th>Copper</th>\n      <th>Alk_Phos</th>\n      <th>SGOT</th>\n      <th>Tryglicerides</th>\n      <th>Platelets</th>\n      <th>Prothrombin</th>\n      <th>Stage</th>\n    </tr>\n  </thead>\n  <tbody>\n    <tr>\n      <th>0</th>\n      <td>1</td>\n      <td>400</td>\n      <td>D</td>\n      <td>D-penicillamine</td>\n      <td>21464</td>\n      <td>F</td>\n      <td>Y</td>\n      <td>Y</td>\n      <td>Y</td>\n      <td>Y</td>\n      <td>14.5</td>\n      <td>261.0</td>\n      <td>2.60</td>\n      <td>156.0</td>\n      <td>1718.0</td>\n      <td>137.95</td>\n      <td>172.0</td>\n      <td>190.0</td>\n      <td>12.2</td>\n      <td>4.0</td>\n    </tr>\n    <tr>\n      <th>1</th>\n      <td>2</td>\n      <td>4500</td>\n      <td>C</td>\n      <td>D-penicillamine</td>\n      <td>20617</td>\n      <td>F</td>\n      <td>N</td>\n      <td>Y</td>\n      <td>Y</td>\n      <td>N</td>\n      <td>1.1</td>\n      <td>302.0</td>\n      <td>4.14</td>\n      <td>54.0</td>\n      <td>7394.8</td>\n      <td>113.52</td>\n      <td>88.0</td>\n      <td>221.0</td>\n      <td>10.6</td>\n      <td>3.0</td>\n    </tr>\n    <tr>\n      <th>2</th>\n      <td>3</td>\n      <td>1012</td>\n      <td>D</td>\n      <td>D-penicillamine</td>\n      <td>25594</td>\n      <td>M</td>\n      <td>N</td>\n      <td>N</td>\n      <td>N</td>\n      <td>S</td>\n      <td>1.4</td>\n      <td>176.0</td>\n      <td>3.48</td>\n      <td>210.0</td>\n      <td>516.0</td>\n      <td>96.10</td>\n      <td>55.0</td>\n      <td>151.0</td>\n      <td>12.0</td>\n      <td>4.0</td>\n    </tr>\n    <tr>\n      <th>3</th>\n      <td>4</td>\n      <td>1925</td>\n      <td>D</td>\n      <td>D-penicillamine</td>\n      <td>19994</td>\n      <td>F</td>\n      <td>N</td>\n      <td>Y</td>\n      <td>Y</td>\n      <td>S</td>\n      <td>1.8</td>\n      <td>244.0</td>\n      <td>2.54</td>\n      <td>64.0</td>\n      <td>6121.8</td>\n      <td>60.63</td>\n      <td>92.0</td>\n      <td>183.0</td>\n      <td>10.3</td>\n      <td>4.0</td>\n    </tr>\n    <tr>\n      <th>4</th>\n      <td>5</td>\n      <td>1504</td>\n      <td>CL</td>\n      <td>Placebo</td>\n      <td>13918</td>\n      <td>F</td>\n      <td>N</td>\n      <td>Y</td>\n      <td>Y</td>\n      <td>N</td>\n      <td>3.4</td>\n      <td>279.0</td>\n      <td>3.53</td>\n      <td>143.0</td>\n      <td>671.0</td>\n      <td>113.15</td>\n      <td>72.0</td>\n      <td>136.0</td>\n      <td>10.9</td>\n      <td>3.0</td>\n    </tr>\n  </tbody>\n</table>\n</div>"
     },
     "execution_count": 3,
     "metadata": {},
     "output_type": "execute_result"
    }
   ],
   "source": [
    "df = pd.read_csv('cirrhosis.csv')\n",
    "df.head()"
   ],
   "metadata": {
    "collapsed": false,
    "pycharm": {
     "name": "#%%\n"
    }
   }
  },
  {
   "cell_type": "code",
   "execution_count": 4,
   "outputs": [
    {
     "data": {
      "text/plain": "               ID       N_Days           Age   Bilirubin  Cholesterol  \\\ncount  418.000000   418.000000    418.000000  418.000000   284.000000   \nmean   209.500000  1917.782297  18533.351675    3.220813   369.510563   \nstd    120.810458  1104.672992   3815.845055    4.407506   231.944545   \nmin      1.000000    41.000000   9598.000000    0.300000   120.000000   \n25%    105.250000  1092.750000  15644.500000    0.800000   249.500000   \n50%    209.500000  1730.000000  18628.000000    1.400000   309.500000   \n75%    313.750000  2613.500000  21272.500000    3.400000   400.000000   \nmax    418.000000  4795.000000  28650.000000   28.000000  1775.000000   \n\n          Albumin      Copper      Alk_Phos        SGOT  Tryglicerides  \\\ncount  418.000000  310.000000    312.000000  312.000000     282.000000   \nmean     3.497440   97.648387   1982.655769  122.556346     124.702128   \nstd      0.424972   85.613920   2140.388824   56.699525      65.148639   \nmin      1.960000    4.000000    289.000000   26.350000      33.000000   \n25%      3.242500   41.250000    871.500000   80.600000      84.250000   \n50%      3.530000   73.000000   1259.000000  114.700000     108.000000   \n75%      3.770000  123.000000   1980.000000  151.900000     151.000000   \nmax      4.640000  588.000000  13862.400000  457.250000     598.000000   \n\n        Platelets  Prothrombin       Stage  \ncount  407.000000   416.000000  412.000000  \nmean   257.024570    10.731731    3.024272  \nstd     98.325585     1.022000    0.882042  \nmin     62.000000     9.000000    1.000000  \n25%    188.500000    10.000000    2.000000  \n50%    251.000000    10.600000    3.000000  \n75%    318.000000    11.100000    4.000000  \nmax    721.000000    18.000000    4.000000  ",
      "text/html": "<div>\n<style scoped>\n    .dataframe tbody tr th:only-of-type {\n        vertical-align: middle;\n    }\n\n    .dataframe tbody tr th {\n        vertical-align: top;\n    }\n\n    .dataframe thead th {\n        text-align: right;\n    }\n</style>\n<table border=\"1\" class=\"dataframe\">\n  <thead>\n    <tr style=\"text-align: right;\">\n      <th></th>\n      <th>ID</th>\n      <th>N_Days</th>\n      <th>Age</th>\n      <th>Bilirubin</th>\n      <th>Cholesterol</th>\n      <th>Albumin</th>\n      <th>Copper</th>\n      <th>Alk_Phos</th>\n      <th>SGOT</th>\n      <th>Tryglicerides</th>\n      <th>Platelets</th>\n      <th>Prothrombin</th>\n      <th>Stage</th>\n    </tr>\n  </thead>\n  <tbody>\n    <tr>\n      <th>count</th>\n      <td>418.000000</td>\n      <td>418.000000</td>\n      <td>418.000000</td>\n      <td>418.000000</td>\n      <td>284.000000</td>\n      <td>418.000000</td>\n      <td>310.000000</td>\n      <td>312.000000</td>\n      <td>312.000000</td>\n      <td>282.000000</td>\n      <td>407.000000</td>\n      <td>416.000000</td>\n      <td>412.000000</td>\n    </tr>\n    <tr>\n      <th>mean</th>\n      <td>209.500000</td>\n      <td>1917.782297</td>\n      <td>18533.351675</td>\n      <td>3.220813</td>\n      <td>369.510563</td>\n      <td>3.497440</td>\n      <td>97.648387</td>\n      <td>1982.655769</td>\n      <td>122.556346</td>\n      <td>124.702128</td>\n      <td>257.024570</td>\n      <td>10.731731</td>\n      <td>3.024272</td>\n    </tr>\n    <tr>\n      <th>std</th>\n      <td>120.810458</td>\n      <td>1104.672992</td>\n      <td>3815.845055</td>\n      <td>4.407506</td>\n      <td>231.944545</td>\n      <td>0.424972</td>\n      <td>85.613920</td>\n      <td>2140.388824</td>\n      <td>56.699525</td>\n      <td>65.148639</td>\n      <td>98.325585</td>\n      <td>1.022000</td>\n      <td>0.882042</td>\n    </tr>\n    <tr>\n      <th>min</th>\n      <td>1.000000</td>\n      <td>41.000000</td>\n      <td>9598.000000</td>\n      <td>0.300000</td>\n      <td>120.000000</td>\n      <td>1.960000</td>\n      <td>4.000000</td>\n      <td>289.000000</td>\n      <td>26.350000</td>\n      <td>33.000000</td>\n      <td>62.000000</td>\n      <td>9.000000</td>\n      <td>1.000000</td>\n    </tr>\n    <tr>\n      <th>25%</th>\n      <td>105.250000</td>\n      <td>1092.750000</td>\n      <td>15644.500000</td>\n      <td>0.800000</td>\n      <td>249.500000</td>\n      <td>3.242500</td>\n      <td>41.250000</td>\n      <td>871.500000</td>\n      <td>80.600000</td>\n      <td>84.250000</td>\n      <td>188.500000</td>\n      <td>10.000000</td>\n      <td>2.000000</td>\n    </tr>\n    <tr>\n      <th>50%</th>\n      <td>209.500000</td>\n      <td>1730.000000</td>\n      <td>18628.000000</td>\n      <td>1.400000</td>\n      <td>309.500000</td>\n      <td>3.530000</td>\n      <td>73.000000</td>\n      <td>1259.000000</td>\n      <td>114.700000</td>\n      <td>108.000000</td>\n      <td>251.000000</td>\n      <td>10.600000</td>\n      <td>3.000000</td>\n    </tr>\n    <tr>\n      <th>75%</th>\n      <td>313.750000</td>\n      <td>2613.500000</td>\n      <td>21272.500000</td>\n      <td>3.400000</td>\n      <td>400.000000</td>\n      <td>3.770000</td>\n      <td>123.000000</td>\n      <td>1980.000000</td>\n      <td>151.900000</td>\n      <td>151.000000</td>\n      <td>318.000000</td>\n      <td>11.100000</td>\n      <td>4.000000</td>\n    </tr>\n    <tr>\n      <th>max</th>\n      <td>418.000000</td>\n      <td>4795.000000</td>\n      <td>28650.000000</td>\n      <td>28.000000</td>\n      <td>1775.000000</td>\n      <td>4.640000</td>\n      <td>588.000000</td>\n      <td>13862.400000</td>\n      <td>457.250000</td>\n      <td>598.000000</td>\n      <td>721.000000</td>\n      <td>18.000000</td>\n      <td>4.000000</td>\n    </tr>\n  </tbody>\n</table>\n</div>"
     },
     "execution_count": 4,
     "metadata": {},
     "output_type": "execute_result"
    }
   ],
   "source": [
    "df.describe()"
   ],
   "metadata": {
    "collapsed": false,
    "pycharm": {
     "name": "#%%\n"
    }
   }
  },
  {
   "cell_type": "code",
   "execution_count": 8,
   "outputs": [
    {
     "data": {
      "text/plain": "D-penicillamine    158\nPlacebo            154\nName: Drug, dtype: int64"
     },
     "execution_count": 8,
     "metadata": {},
     "output_type": "execute_result"
    }
   ],
   "source": [
    "df['Drug'].value_counts()"
   ],
   "metadata": {
    "collapsed": false,
    "pycharm": {
     "name": "#%%\n"
    }
   }
  },
  {
   "cell_type": "code",
   "execution_count": null,
   "outputs": [],
   "source": [
    "df.shape"
   ],
   "metadata": {
    "collapsed": false,
    "pycharm": {
     "name": "#%%\n"
    }
   }
  },
  {
   "cell_type": "code",
   "execution_count": null,
   "outputs": [],
   "source": [
    "df = df.drop('ID',axis=1)"
   ],
   "metadata": {
    "collapsed": false,
    "pycharm": {
     "name": "#%%\n"
    }
   }
  },
  {
   "cell_type": "code",
   "execution_count": null,
   "outputs": [],
   "source": [
    "df.info()"
   ],
   "metadata": {
    "collapsed": false,
    "pycharm": {
     "name": "#%%\n"
    }
   }
  },
  {
   "cell_type": "markdown",
   "source": [
    "### 2. Missing Value Treatment | Label Encoding | Prepare Data for Modeling"
   ],
   "metadata": {
    "collapsed": false,
    "pycharm": {
     "name": "#%% md\n"
    }
   }
  },
  {
   "cell_type": "code",
   "execution_count": null,
   "outputs": [],
   "source": [
    "plt.figure(figsize=(6,12))\n",
    "plt.title('Missing Value by Row')\n",
    "ax = sns.heatmap(df.isna().sum().to_frame(), annot = True, fmt = 'd', cmap = 'plasma')\n",
    "plt.show()"
   ],
   "metadata": {
    "collapsed": false,
    "pycharm": {
     "name": "#%%\n"
    }
   }
  },
  {
   "cell_type": "code",
   "execution_count": null,
   "outputs": [],
   "source": [
    "plt.figure(figsize=(16,10), dpi = 200)\n",
    "ax = plt.axes()\n",
    "sns.heatmap(df.corr(), annot = True, cmap = 'RdBu', ax = ax)\n",
    "ax.set_title('Correlation MAtrix - Before Encoding and Handling Missing Data', weight = 'bold')\n",
    "plt.show()"
   ],
   "metadata": {
    "collapsed": false,
    "pycharm": {
     "name": "#%%\n"
    }
   }
  },
  {
   "cell_type": "code",
   "execution_count": null,
   "outputs": [],
   "source": [
    "#Organize binary labels into subplots to view value counts of each feature\n",
    "\n",
    "fig, axes = plt.subplots(nrows = 2, ncols = 4, dpi =200, figsize = (24,12))\n",
    "\n",
    "df.Status.value_counts().plot(kind = 'bar', color = 'tab:green', title = 'Status', ax =axes[0,0])\n",
    "df.Drug.value_counts().plot(kind = 'bar', color = 'tab:grey', title = 'Drug', ax =axes[0,1])\n",
    "df.Sex.value_counts().plot(kind = 'bar', color = 'tab:blue', title = 'Sex', ax =axes[0,2])\n",
    "df.Ascites.value_counts().plot(kind = 'bar', color = 'tab:red', title = 'Ascites', ax =axes[0,3])\n",
    "\n",
    "df.Spiders.value_counts().plot(kind='bar', color='tab:cyan', title='Spiders', ax=axes[1,0])\n",
    "df.Edema.value_counts().plot(kind='bar', color='tab:purple', title='Edema', ax=axes[1,1])\n",
    "df.Hepatomegaly.value_counts().plot(kind='bar', color='tab:olive', title='Hepatomegaly', ax=axes[1,2])\n",
    "df.Stage.value_counts().plot(kind='bar', color='tab:orange', title='Stage', ax=axes[1,3]);"
   ],
   "metadata": {
    "collapsed": false,
    "pycharm": {
     "name": "#%%\n"
    }
   }
  },
  {
   "cell_type": "code",
   "execution_count": null,
   "outputs": [],
   "source": [
    "# Converting Target categories into intigers 1 for Cirrhosis, 0 otherwise\n",
    "df['Stage'] = np.where(df['Stage'] == 4,1,0)"
   ],
   "metadata": {
    "collapsed": false,
    "pycharm": {
     "name": "#%%\n"
    }
   }
  },
  {
   "cell_type": "code",
   "execution_count": null,
   "outputs": [],
   "source": [
    "#Regressiion Plots for Positive Correlated Features\n",
    "plt.figure(figsize= (21,12))\n",
    "\n",
    "plt.subplot(3,1,1)\n",
    "sns.regplot(x = df.Age, y=df.Stage, scatter = False, logistic = True, color = 'darkmagenta');\n",
    "sns.despine(fig=None, ax=None, top=True, right=True, left=True, bottom=True, offset=None, trim=False);\n",
    "plt.tick_params(axis='both', which='both', bottom=False, top=False, left=False) ;\n",
    "plt.xlabel('');\n",
    "plt.ylabel('Cirrhosis Likelihood');\n",
    "plt.setp(plt.title('Likelihood of Cirrhosis with Age'), color='darkmagenta') ;\n",
    "\n",
    "plt.subplot(3,1,2)\n",
    "sns.regplot(x=df['Prothrombin'], y=df['Stage'], scatter=False, logistic=True, color='royalblue')\n",
    "sns.despine(fig=None, ax=None, top=True, right=True, left=True, bottom=True, offset=None, trim=False)\n",
    "plt.tick_params(axis='both', which='both', bottom=False, top=False, left=False)\n",
    "plt.xlabel('')\n",
    "plt.ylabel('Cirrhosis Likelihood')\n",
    "plt.setp(plt.title('Likelihood of Cirrhosis with Increased Levels of Prothrombin'), color='royalblue');\n",
    "\n",
    "plt.subplot(3,1,3)\n",
    "sns.regplot(x=df.Copper, y=df['Stage'], scatter=False, logistic=True, color='darkmagenta')\n",
    "sns.despine(fig=None, ax=None, top=True, right=True, left=True, bottom=True, offset=None, trim=False)\n",
    "plt.tick_params(axis='both', which='both', bottom=False, top=False, left=False)\n",
    "plt.xlabel('')\n",
    "plt.ylabel('Cirrhosis Likelihood')\n",
    "plt.setp(plt.title('Likelihood of Cirrhosis with Increased Levels of Copper'), color='darkmagenta');"
   ],
   "metadata": {
    "collapsed": false,
    "pycharm": {
     "name": "#%%\n"
    }
   }
  },
  {
   "cell_type": "code",
   "execution_count": null,
   "outputs": [],
   "source": [
    "#Regressiion Plots for Negative Correlated Features\n",
    "plt.figure(figsize= (21,12))\n",
    "\n",
    "plt.subplot(3,1,1)\n",
    "sns.regplot(x=df['Platelets'], y=df['Stage'], scatter=False, logistic=True, color='darkmagenta')\n",
    "sns.despine(fig=None, ax=None, top=True, right=True, left=True, bottom=True, offset=None, trim=False);\n",
    "plt.tick_params(axis='both', which='both', bottom=False, top=False, left=False)\n",
    "plt.xlabel('');\n",
    "plt.ylabel('Cirrhosis Likelihood');\n",
    "plt.setp(plt.title('Likelihood of Cirrhosis with Platelet Count'), color='darkmagenta');\n",
    "\n",
    "plt.subplot(3,1,2)\n",
    "sns.regplot(x=df['Albumin'], y=df['Stage'], scatter=False, logistic=True, color='royalblue');\n",
    "sns.despine(fig=None, ax=None, top=True, right=True, left=True, bottom=True, offset=None, trim=False);\n",
    "plt.tick_params(axis='both', which='both', bottom=False, top=False, left=False)\n",
    "plt.xlabel('');\n",
    "plt.ylabel('Cirrhosis Likelihood');\n",
    "plt.setp(plt.title('Likelihood of Cirrhosis with Albumin Content'), color='royalblue');\n",
    "\n",
    "plt.subplot(3,1,3)\n",
    "sns.regplot(x=df['Cholesterol'], y=df['Stage'], scatter=False, logistic=True, color='darkmagenta')\n",
    "sns.despine(fig=None, ax=None, top=True, right=True, left=True, bottom=True, offset=None, trim=False);\n",
    "plt.tick_params(axis='both', which='both', bottom=False, top=False, left=False)\n",
    "plt.xlabel('');\n",
    "plt.ylabel('Cirrhosis Likelihood');\n",
    "plt.setp(plt.title('Likelihood of Cirrhosis with Cholesterol Content'), color='darkmagenta') ;"
   ],
   "metadata": {
    "collapsed": false,
    "pycharm": {
     "name": "#%%\n"
    }
   }
  },
  {
   "cell_type": "code",
   "execution_count": null,
   "outputs": [],
   "source": [
    "df2 = pd.read_csv('cirrhosis.csv')\n",
    "df2 = df2.drop(['ID','Age'],axis=1)\n",
    "\n",
    "#Missing Value Treatment - Since the dataset is not very large we cannot drop any datasets instead we will be filling the numerical columns with the median and the categorical columns with the mode. This is not always the most highly accurate technique because of the inherent bias that this will create towards the handled features, but for the purposes of this dataset that will be the method that I will use.\n",
    "df2 = df2[df2['Stage'].notna()]\n",
    "numerical_columns = df2.select_dtypes(include = (['int64', 'float64'])).columns\n",
    "categorical_columns = df2.select_dtypes(include = ('object')).columns\n",
    "\n",
    "for c in numerical_columns:\n",
    "    df2[c].fillna(df2[c].median(), inplace = True)\n",
    "\n",
    "for c in categorical_columns:\n",
    "    df2[c].fillna(df2[c].mode().values[0], inplace = True)\n",
    "\n",
    "df2.Stage = df2.Stage.astype(int)"
   ],
   "metadata": {
    "collapsed": false,
    "pycharm": {
     "name": "#%%\n"
    }
   }
  },
  {
   "cell_type": "code",
   "execution_count": null,
   "outputs": [],
   "source": [
    "plt.figure(figsize=(6,12))\n",
    "plt.title('Missing Value by Row - Post-MVT')\n",
    "ax = sns.heatmap(df2.isna().sum().to_frame(), annot = True, fmt = 'd', cmap = 'plasma')\n",
    "plt.show()"
   ],
   "metadata": {
    "collapsed": false,
    "pycharm": {
     "name": "#%%\n"
    }
   }
  },
  {
   "cell_type": "code",
   "execution_count": null,
   "outputs": [],
   "source": [
    "# Dummy Variables\n",
    "df2['Sex'] = df2['Sex'].replace({'M':0, 'F':1})\n",
    "df2['Ascites'] = df2['Ascites'].replace({'N':0, 'Y':1})\n",
    "df2['Drug'] = df2['Drug'].replace({'D-penicillamine':0, 'Placebo':1})\n",
    "df2['Hepatomegaly'] = df2['Hepatomegaly'].replace({'N':0, 'Y':1})\n",
    "df2['Spiders'] = df2['Spiders'].replace({'N':0, 'Y':1})\n",
    "df2['Edema'] = df2['Edema'].replace({'N':0, 'Y':1, 'S':-1})\n",
    "df2['Status'] = df2['Status'].replace({'C':0, 'CL':1, 'D':-1})"
   ],
   "metadata": {
    "collapsed": false,
    "pycharm": {
     "name": "#%%\n"
    }
   }
  },
  {
   "cell_type": "code",
   "execution_count": null,
   "outputs": [],
   "source": [
    "plt.figure(figsize = (16,10), dpi=200)\n",
    "ax = plt.axes()\n",
    "sns.heatmap(df2.corr(), annot = True, cmap='RdBu', ax=ax)\n",
    "ax.set_title('Correlation Matrix', weight='bold')\n",
    "plt.show()"
   ],
   "metadata": {
    "collapsed": false,
    "pycharm": {
     "name": "#%%\n"
    }
   }
  },
  {
   "cell_type": "markdown",
   "source": [
    "\n",
    "**As we can see from this initial correlation matrix, Hepatomegaly has the highest correlation ratio with the stage of cirrhosis which can allow us to infer that it is a good indication of liver cirrhosis severity in the body.**"
   ],
   "metadata": {
    "collapsed": false,
    "pycharm": {
     "name": "#%% md\n"
    }
   }
  },
  {
   "cell_type": "code",
   "execution_count": null,
   "outputs": [],
   "source": [
    "plt.figure(figsize = (24,5))\n",
    "sns.countplot( y = df2['Stage'], palette = 'crest', alpha = 0.8)\n",
    "sns.despine(top =True, right =True, bottom = True, left =True)\n",
    "plt.tick_params(axis = 'both', which = 'both', bottom = False, top = False, left = False)\n",
    "plt.xlabel('Count')\n",
    "plt.title('Cirrhosis Stages for Trial Participants')"
   ],
   "metadata": {
    "collapsed": false,
    "pycharm": {
     "name": "#%%\n"
    }
   }
  },
  {
   "cell_type": "code",
   "execution_count": null,
   "outputs": [],
   "source": [
    "X = df2.drop(['Status', 'N_Days', 'Stage'], axis=1)\n",
    "y = df2.pop('Stage')"
   ],
   "metadata": {
    "collapsed": false,
    "pycharm": {
     "name": "#%%\n"
    }
   }
  },
  {
   "cell_type": "code",
   "execution_count": null,
   "outputs": [],
   "source": [
    "# Upsampling Data\n",
    "sm = SMOTE(k_neighbors = 3)\n",
    "X, y = sm.fit_resample(X, y)\n",
    "\n",
    "# Scaling Data\n",
    "scaler = StandardScaler()\n",
    "scaler.fit(X)\n",
    "X = scaler.transform(X)"
   ],
   "metadata": {
    "collapsed": false,
    "pycharm": {
     "name": "#%%\n"
    }
   }
  },
  {
   "cell_type": "code",
   "execution_count": null,
   "outputs": [],
   "source": [
    "X_train, X_test, y_train, y_test = train_test_split(X, y, test_size = 0.2, random_state = 23)"
   ],
   "metadata": {
    "collapsed": false,
    "pycharm": {
     "name": "#%%\n"
    }
   }
  },
  {
   "cell_type": "markdown",
   "source": [
    "### 3. Perform Further Exploratory Data Analysis (EDA) to note interesting patterns in the dataset."
   ],
   "metadata": {
    "collapsed": false,
    "pycharm": {
     "name": "#%% md\n"
    }
   }
  },
  {
   "cell_type": "markdown",
   "source": [
    " **Having more samples of one class against any of the others, can result in inconsistent sampliing which will affect the accuracy. We can fix this with including more samples.**"
   ],
   "metadata": {
    "collapsed": false,
    "pycharm": {
     "name": "#%% md\n"
    }
   }
  },
  {
   "cell_type": "markdown",
   "source": [
    "**Per our inferences, we can see that Copper Accumulation, Age, and Prothrombin increase the likelihood of Liver Cirrhosis.**"
   ],
   "metadata": {
    "collapsed": false,
    "pycharm": {
     "name": "#%% md\n"
    }
   }
  },
  {
   "cell_type": "markdown",
   "source": [
    "### 4. Modeling Data"
   ],
   "metadata": {
    "collapsed": false,
    "pycharm": {
     "name": "#%% md\n"
    }
   }
  },
  {
   "cell_type": "code",
   "execution_count": null,
   "outputs": [],
   "source": [
    "#Create Accuracy Score plot for\n",
    "\n",
    "def visualize_scores(score):\n",
    "\n",
    "    names = ['SVM', 'Decision Tree' , 'Random Forest' , 'Logistic Regression' , 'AdaBoost' , 'KNN']\n",
    "\n",
    "    plt.rcParams['figure.figsize'] = 20,8\n",
    "    ax = sns.barplot(x =names, y = score, palette = 'crest', saturation = 1.0)\n",
    "    plt.xlabel('Model Type', fontsize = 8)\n",
    "    plt.ylabel('Accuracy (%)', fontsize = 8)\n",
    "    plt.title('Accuracy Results from Model Training and Valiidion Tests', fontsize =30)\n",
    "    plt.xticks(fontsize = 10, horizontalalignment = 'right', rotation = 6)\n",
    "    plt.yticks(fontsize = 10)\n",
    "\n",
    "    for i in ax.patches:\n",
    "        width, height = i.get_width(), i.get_height()\n",
    "        x,y = i.get_xy()\n",
    "        ax.annotate(f'{round(height,2)}%',(x+width/2 , y +height * 1.01), ha = 'center', fontsize = 'large')\n",
    "        plt.show()"
   ],
   "metadata": {
    "collapsed": false,
    "pycharm": {
     "name": "#%%\n"
    }
   }
  },
  {
   "cell_type": "code",
   "execution_count": null,
   "outputs": [],
   "source": [
    "def trainer(X_train, y_train, X_test, y_test):\n",
    "\n",
    "    models = [[' SVM ', SVC()],\n",
    "              [' Decision Tree ', DecisionTreeClassifier()],\n",
    "              [' Random Forest ', RandomForestClassifier()],\n",
    "              [' Logistic Regression ', LogisticRegression(max_iter = 200)],\n",
    "              [' AdaBoost ', AdaBoostClassifier()],\n",
    "              [' KNN ', KNeighborsClassifier()],\n",
    "        ]\n",
    "\n",
    "    scores = []\n",
    "\n",
    "    for model_name, model in models:\n",
    "\n",
    "        model = model\n",
    "        model.fit(X_train, y_train)\n",
    "        pred = model.predict(X_test)\n",
    "        cm = confusion_matrix(y_test, pred)\n",
    "        scores.append(accuracy_score(y_test, model.predict(X_test)))\n",
    "\n",
    "        print(Back.BLUE + Fore.BLACK + Style.BRIGHT + model_name)\n",
    "        print(Back.RESET)\n",
    "        print(cm)\n",
    "        print('\\n' + Fore.BLUE + 'Training Accuracy: ' + Fore.GREEN + str(round(accuracy_score(y_train, model.predict(X_train)) * 100, 2)) + '%')\n",
    "        print('\\n' + Fore.BLUE + 'Validation Accuracy: ' + Fore.GREEN + str(round(accuracy_score(y_test, model.predict(X_test)) * 100, 2)) + '%')\n",
    "        print(Fore.GREEN + classification_report(y_test, pred))\n",
    "\n",
    "        visualizer = ROCAUC(model)\n",
    "        visualizer.fit(X_train, y_train)\n",
    "        visualizer.score(X_test,y_test)\n",
    "        visualizer.show()\n",
    "\n",
    "        print('\\n' + Fore.BLACK + Back.WHITE + '****************************************\\n')\n",
    "\n",
    "\n",
    "    return scores"
   ],
   "metadata": {
    "collapsed": false,
    "pycharm": {
     "name": "#%%\n"
    }
   }
  },
  {
   "cell_type": "code",
   "execution_count": null,
   "outputs": [],
   "source": [
    "scores = trainer(X_train, y_train, X_test, y_test)"
   ],
   "metadata": {
    "collapsed": false,
    "pycharm": {
     "name": "#%%\n"
    }
   }
  },
  {
   "cell_type": "code",
   "execution_count": null,
   "outputs": [],
   "source": [
    "visualize_scores(scores)"
   ],
   "metadata": {
    "collapsed": false,
    "pycharm": {
     "name": "#%%\n"
    }
   }
  },
  {
   "cell_type": "markdown",
   "source": [
    "**Based on the performance shown, Random Forest is comparatively the best algorithm to apply. Considering that there are only 480 samples, I believe this accuracy is good and will be improved with further testing.**\n",
    "\n",
    "**IDEAS ON HOW TO IMPROVE PERFORMANCE:**\n",
    "- More data points for learning\n",
    "- Training using an ensemble learning technique, XGBOOST\n",
    "\n",
    "**ADDITIONAL IDEAS TO IMPROVE PEFORMANCE:**\n",
    "- Using a deep learning Neural Network to process the logistic regression."
   ],
   "metadata": {
    "collapsed": false,
    "pycharm": {
     "name": "#%% md\n"
    }
   }
  },
  {
   "cell_type": "markdown",
   "source": [
    "### 5. Save Model as Pickle File and Prepare to Deploy"
   ],
   "metadata": {
    "collapsed": false,
    "pycharm": {
     "name": "#%% md\n"
    }
   }
  },
  {
   "cell_type": "code",
   "execution_count": null,
   "outputs": [],
   "source": [
    "model = RandomForestClassifier()\n",
    "model.fit(X_train, y_train)\n",
    "pred = model.predict(X_test)\n",
    "cm = confusion_matrix(y_test, pred)\n",
    "scores.append(accuracy_score(y_test, model.predict(X_test)))\n"
   ],
   "metadata": {
    "collapsed": false,
    "pycharm": {
     "name": "#%%\n"
    }
   }
  },
  {
   "cell_type": "code",
   "execution_count": null,
   "outputs": [],
   "source": [
    "import pickle\n",
    "pickle.dump(model, open('model.pkl', 'wb'))"
   ],
   "metadata": {
    "collapsed": false,
    "pycharm": {
     "name": "#%%\n"
    }
   }
  },
  {
   "cell_type": "code",
   "execution_count": null,
   "outputs": [],
   "source": [
    "df2.head()"
   ],
   "metadata": {
    "collapsed": false,
    "pycharm": {
     "name": "#%%\n"
    }
   }
  },
  {
   "cell_type": "code",
   "execution_count": null,
   "outputs": [],
   "source": [],
   "metadata": {
    "collapsed": false,
    "pycharm": {
     "name": "#%%\n"
    }
   }
  },
  {
   "cell_type": "code",
   "execution_count": 77,
   "metadata": {
    "pycharm": {
     "name": "#%%\n"
    }
   },
   "outputs": [
    {
     "data": {
      "text/html": [
       "<div>\n",
       "<style scoped>\n",
       "    .dataframe tbody tr th:only-of-type {\n",
       "        vertical-align: middle;\n",
       "    }\n",
       "\n",
       "    .dataframe tbody tr th {\n",
       "        vertical-align: top;\n",
       "    }\n",
       "\n",
       "    .dataframe thead th {\n",
       "        text-align: right;\n",
       "    }\n",
       "</style>\n",
       "<table border=\"1\" class=\"dataframe\">\n",
       "  <thead>\n",
       "    <tr style=\"text-align: right;\">\n",
       "      <th></th>\n",
       "      <th>N_Days</th>\n",
       "      <th>Status</th>\n",
       "      <th>Drug</th>\n",
       "      <th>Sex</th>\n",
       "      <th>Ascites</th>\n",
       "      <th>Hepatomegaly</th>\n",
       "      <th>Spiders</th>\n",
       "      <th>Edema</th>\n",
       "      <th>Bilirubin</th>\n",
       "      <th>Cholesterol</th>\n",
       "      <th>Albumin</th>\n",
       "      <th>Copper</th>\n",
       "      <th>Alk_Phos</th>\n",
       "      <th>SGOT</th>\n",
       "      <th>Tryglicerides</th>\n",
       "      <th>Platelets</th>\n",
       "      <th>Prothrombin</th>\n",
       "    </tr>\n",
       "  </thead>\n",
       "  <tbody>\n",
       "    <tr>\n",
       "      <th>0</th>\n",
       "      <td>400</td>\n",
       "      <td>-1</td>\n",
       "      <td>0</td>\n",
       "      <td>1</td>\n",
       "      <td>1</td>\n",
       "      <td>1</td>\n",
       "      <td>1</td>\n",
       "      <td>1</td>\n",
       "      <td>14.5</td>\n",
       "      <td>261.0</td>\n",
       "      <td>2.60</td>\n",
       "      <td>156.0</td>\n",
       "      <td>1718.0</td>\n",
       "      <td>137.95</td>\n",
       "      <td>172.0</td>\n",
       "      <td>190.0</td>\n",
       "      <td>12.2</td>\n",
       "    </tr>\n",
       "    <tr>\n",
       "      <th>1</th>\n",
       "      <td>4500</td>\n",
       "      <td>0</td>\n",
       "      <td>0</td>\n",
       "      <td>1</td>\n",
       "      <td>0</td>\n",
       "      <td>1</td>\n",
       "      <td>1</td>\n",
       "      <td>0</td>\n",
       "      <td>1.1</td>\n",
       "      <td>302.0</td>\n",
       "      <td>4.14</td>\n",
       "      <td>54.0</td>\n",
       "      <td>7394.8</td>\n",
       "      <td>113.52</td>\n",
       "      <td>88.0</td>\n",
       "      <td>221.0</td>\n",
       "      <td>10.6</td>\n",
       "    </tr>\n",
       "    <tr>\n",
       "      <th>2</th>\n",
       "      <td>1012</td>\n",
       "      <td>-1</td>\n",
       "      <td>0</td>\n",
       "      <td>0</td>\n",
       "      <td>0</td>\n",
       "      <td>0</td>\n",
       "      <td>0</td>\n",
       "      <td>-1</td>\n",
       "      <td>1.4</td>\n",
       "      <td>176.0</td>\n",
       "      <td>3.48</td>\n",
       "      <td>210.0</td>\n",
       "      <td>516.0</td>\n",
       "      <td>96.10</td>\n",
       "      <td>55.0</td>\n",
       "      <td>151.0</td>\n",
       "      <td>12.0</td>\n",
       "    </tr>\n",
       "    <tr>\n",
       "      <th>3</th>\n",
       "      <td>1925</td>\n",
       "      <td>-1</td>\n",
       "      <td>0</td>\n",
       "      <td>1</td>\n",
       "      <td>0</td>\n",
       "      <td>1</td>\n",
       "      <td>1</td>\n",
       "      <td>-1</td>\n",
       "      <td>1.8</td>\n",
       "      <td>244.0</td>\n",
       "      <td>2.54</td>\n",
       "      <td>64.0</td>\n",
       "      <td>6121.8</td>\n",
       "      <td>60.63</td>\n",
       "      <td>92.0</td>\n",
       "      <td>183.0</td>\n",
       "      <td>10.3</td>\n",
       "    </tr>\n",
       "    <tr>\n",
       "      <th>4</th>\n",
       "      <td>1504</td>\n",
       "      <td>1</td>\n",
       "      <td>1</td>\n",
       "      <td>1</td>\n",
       "      <td>0</td>\n",
       "      <td>1</td>\n",
       "      <td>1</td>\n",
       "      <td>0</td>\n",
       "      <td>3.4</td>\n",
       "      <td>279.0</td>\n",
       "      <td>3.53</td>\n",
       "      <td>143.0</td>\n",
       "      <td>671.0</td>\n",
       "      <td>113.15</td>\n",
       "      <td>72.0</td>\n",
       "      <td>136.0</td>\n",
       "      <td>10.9</td>\n",
       "    </tr>\n",
       "  </tbody>\n",
       "</table>\n",
       "</div>"
      ],
      "text/plain": [
       "   N_Days  Status  Drug  Sex  Ascites  Hepatomegaly  Spiders  Edema  \\\n",
       "0     400      -1     0    1        1             1        1      1   \n",
       "1    4500       0     0    1        0             1        1      0   \n",
       "2    1012      -1     0    0        0             0        0     -1   \n",
       "3    1925      -1     0    1        0             1        1     -1   \n",
       "4    1504       1     1    1        0             1        1      0   \n",
       "\n",
       "   Bilirubin  Cholesterol  Albumin  Copper  Alk_Phos    SGOT  Tryglicerides  \\\n",
       "0       14.5        261.0     2.60   156.0    1718.0  137.95          172.0   \n",
       "1        1.1        302.0     4.14    54.0    7394.8  113.52           88.0   \n",
       "2        1.4        176.0     3.48   210.0     516.0   96.10           55.0   \n",
       "3        1.8        244.0     2.54    64.0    6121.8   60.63           92.0   \n",
       "4        3.4        279.0     3.53   143.0     671.0  113.15           72.0   \n",
       "\n",
       "   Platelets  Prothrombin  \n",
       "0      190.0         12.2  \n",
       "1      221.0         10.6  \n",
       "2      151.0         12.0  \n",
       "3      183.0         10.3  \n",
       "4      136.0         10.9  "
      ]
     },
     "execution_count": 77,
     "metadata": {},
     "output_type": "execute_result"
    }
   ],
   "source": [
    "df2.head()"
   ]
  },
  {
   "cell_type": "code",
   "execution_count": null,
   "metadata": {
    "pycharm": {
     "name": "#%%\n"
    }
   },
   "outputs": [],
   "source": []
  }
 ],
 "metadata": {
  "kernelspec": {
   "display_name": "Python 3.9.1 64-bit ('3.9.1')",
   "language": "python",
   "name": "python3"
  },
  "language_info": {
   "codemirror_mode": {
    "name": "ipython",
    "version": 3
   },
   "file_extension": ".py",
   "mimetype": "text/x-python",
   "name": "python",
   "nbconvert_exporter": "python",
   "pygments_lexer": "ipython3",
   "version": "3.9.1"
  },
  "vscode": {
   "interpreter": {
    "hash": "cdcbaf5299a59f6a67e524404c489446e9cc5ea061d668d43e61b7e8064685ac"
   }
  }
 },
 "nbformat": 4,
 "nbformat_minor": 0
}